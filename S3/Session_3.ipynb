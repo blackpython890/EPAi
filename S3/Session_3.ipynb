{
  "nbformat": 4,
  "nbformat_minor": 0,
  "metadata": {
    "colab": {
      "name": "Session:3.ipynb",
      "provenance": [],
      "authorship_tag": "ABX9TyO3OGR01bAjj/5L855nxAKs",
      "include_colab_link": true
    },
    "kernelspec": {
      "name": "python3",
      "display_name": "Python 3"
    }
  },
  "cells": [
    {
      "cell_type": "markdown",
      "metadata": {
        "id": "view-in-github",
        "colab_type": "text"
      },
      "source": [
        "<a href=\"https://colab.research.google.com/github/jagatabhay/EPAi/blob/master/S3/Session_3.ipynb\" target=\"_parent\"><img src=\"https://colab.research.google.com/assets/colab-badge.svg\" alt=\"Open In Colab\"/></a>"
      ]
    },
    {
      "cell_type": "code",
      "metadata": {
        "id": "9MUeJqORNHQA",
        "colab_type": "code",
        "colab": {
          "base_uri": "https://localhost:8080/",
          "height": 146
        },
        "outputId": "5c8aad3c-e7b0-4273-d5f9-45bd48940006"
      },
      "source": [
        "!git clone https://github.com/jagatabhay/EPAi.git"
      ],
      "execution_count": 1,
      "outputs": [
        {
          "output_type": "stream",
          "text": [
            "Cloning into 'EPAi'...\n",
            "remote: Enumerating objects: 12, done.\u001b[K\n",
            "remote: Counting objects:   8% (1/12)\u001b[K\rremote: Counting objects:  16% (2/12)\u001b[K\rremote: Counting objects:  25% (3/12)\u001b[K\rremote: Counting objects:  33% (4/12)\u001b[K\rremote: Counting objects:  41% (5/12)\u001b[K\rremote: Counting objects:  50% (6/12)\u001b[K\rremote: Counting objects:  58% (7/12)\u001b[K\rremote: Counting objects:  66% (8/12)\u001b[K\rremote: Counting objects:  75% (9/12)\u001b[K\rremote: Counting objects:  83% (10/12)\u001b[K\rremote: Counting objects:  91% (11/12)\u001b[K\rremote: Counting objects: 100% (12/12)\u001b[K\rremote: Counting objects: 100% (12/12), done.\u001b[K\n",
            "remote: Compressing objects:   8% (1/12)\u001b[K\rremote: Compressing objects:  16% (2/12)\u001b[K\rremote: Compressing objects:  25% (3/12)\u001b[K\rremote: Compressing objects:  33% (4/12)\u001b[K\rremote: Compressing objects:  41% (5/12)\u001b[K\rremote: Compressing objects:  50% (6/12)\u001b[K\rremote: Compressing objects:  58% (7/12)\u001b[K\rremote: Compressing objects:  66% (8/12)\u001b[K\rremote: Compressing objects:  75% (9/12)\u001b[K\rremote: Compressing objects:  83% (10/12)\u001b[K\rremote: Compressing objects:  91% (11/12)\u001b[K\rremote: Compressing objects: 100% (12/12)\u001b[K\rremote: Compressing objects: 100% (12/12), done.\u001b[K\n",
            "Receiving objects:   0% (1/284)   \rReceiving objects:   1% (3/284)   \rReceiving objects:   2% (6/284)   \rremote: Total 284 (delta 4), reused 0 (delta 0), pack-reused 272\u001b[K\n",
            "Receiving objects:   3% (9/284)   \rReceiving objects:   4% (12/284)   \rReceiving objects:   5% (15/284)   \rReceiving objects:   6% (18/284)   \rReceiving objects:   7% (20/284)   \rReceiving objects:   8% (23/284)   \rReceiving objects:   9% (26/284)   \rReceiving objects:  10% (29/284)   \rReceiving objects:  11% (32/284)   \rReceiving objects:  12% (35/284)   \rReceiving objects:  13% (37/284)   \rReceiving objects:  14% (40/284)   \rReceiving objects:  15% (43/284)   \rReceiving objects:  16% (46/284)   \rReceiving objects:  17% (49/284)   \rReceiving objects:  18% (52/284)   \rReceiving objects:  19% (54/284)   \rReceiving objects:  20% (57/284)   \rReceiving objects:  21% (60/284)   \rReceiving objects:  22% (63/284)   \rReceiving objects:  23% (66/284)   \rReceiving objects:  24% (69/284)   \rReceiving objects:  25% (71/284)   \rReceiving objects:  26% (74/284)   \rReceiving objects:  27% (77/284)   \rReceiving objects:  28% (80/284)   \rReceiving objects:  29% (83/284)   \rReceiving objects:  30% (86/284)   \rReceiving objects:  31% (89/284)   \rReceiving objects:  32% (91/284)   \rReceiving objects:  33% (94/284)   \rReceiving objects:  34% (97/284)   \rReceiving objects:  35% (100/284)   \rReceiving objects:  36% (103/284)   \rReceiving objects:  37% (106/284)   \rReceiving objects:  38% (108/284)   \rReceiving objects:  39% (111/284)   \rReceiving objects:  40% (114/284)   \rReceiving objects:  41% (117/284)   \rReceiving objects:  42% (120/284)   \rReceiving objects:  43% (123/284)   \rReceiving objects:  44% (125/284)   \rReceiving objects:  45% (128/284)   \rReceiving objects:  46% (131/284)   \rReceiving objects:  47% (134/284)   \rReceiving objects:  48% (137/284)   \rReceiving objects:  49% (140/284)   \rReceiving objects:  50% (142/284)   \rReceiving objects:  51% (145/284)   \rReceiving objects:  52% (148/284)   \rReceiving objects:  53% (151/284)   \rReceiving objects:  54% (154/284)   \rReceiving objects:  55% (157/284)   \rReceiving objects:  56% (160/284)   \rReceiving objects:  57% (162/284)   \rReceiving objects:  58% (165/284)   \rReceiving objects:  59% (168/284)   \rReceiving objects:  60% (171/284)   \rReceiving objects:  61% (174/284)   \rReceiving objects:  62% (177/284)   \rReceiving objects:  63% (179/284)   \rReceiving objects:  64% (182/284)   \rReceiving objects:  65% (185/284)   \rReceiving objects:  66% (188/284)   \rReceiving objects:  67% (191/284)   \rReceiving objects:  68% (194/284)   \rReceiving objects:  69% (196/284)   \rReceiving objects:  70% (199/284)   \rReceiving objects:  71% (202/284)   \rReceiving objects:  72% (205/284)   \rReceiving objects:  73% (208/284)   \rReceiving objects:  74% (211/284)   \rReceiving objects:  75% (213/284)   \rReceiving objects:  76% (216/284)   \rReceiving objects:  77% (219/284)   \rReceiving objects:  78% (222/284)   \rReceiving objects:  79% (225/284)   \rReceiving objects:  80% (228/284)   \rReceiving objects:  81% (231/284)   \rReceiving objects:  82% (233/284)   \rReceiving objects:  83% (236/284)   \rReceiving objects:  84% (239/284)   \rReceiving objects:  85% (242/284)   \rReceiving objects:  86% (245/284)   \rReceiving objects:  87% (248/284)   \rReceiving objects:  88% (250/284)   \rReceiving objects:  89% (253/284)   \rReceiving objects:  90% (256/284)   \rReceiving objects:  91% (259/284)   \rReceiving objects:  92% (262/284)   \rReceiving objects:  93% (265/284)   \rReceiving objects:  94% (267/284)   \rReceiving objects:  95% (270/284)   \rReceiving objects:  96% (273/284)   \rReceiving objects:  97% (276/284)   \rReceiving objects:  98% (279/284)   \rReceiving objects:  99% (282/284)   \rReceiving objects: 100% (284/284)   \rReceiving objects: 100% (284/284), 70.52 KiB | 10.07 MiB/s, done.\n",
            "Resolving deltas:   0% (0/104)   \rResolving deltas:  35% (37/104)   \rResolving deltas:  36% (38/104)   \rResolving deltas:  57% (60/104)   \rResolving deltas:  58% (61/104)   \rResolving deltas:  61% (64/104)   \rResolving deltas:  62% (65/104)   \rResolving deltas:  65% (68/104)   \rResolving deltas:  66% (69/104)   \rResolving deltas:  77% (81/104)   \rResolving deltas:  81% (85/104)   \rResolving deltas:  82% (86/104)   \rResolving deltas:  87% (91/104)   \rResolving deltas:  92% (96/104)   \rResolving deltas:  93% (97/104)   \rResolving deltas:  94% (98/104)   \rResolving deltas:  95% (99/104)   \rResolving deltas:  97% (101/104)   \rResolving deltas:  99% (103/104)   \rResolving deltas: 100% (104/104)   \rResolving deltas: 100% (104/104), done.\n"
          ],
          "name": "stdout"
        }
      ]
    },
    {
      "cell_type": "code",
      "metadata": {
        "id": "n9btAzm2NSNq",
        "colab_type": "code",
        "colab": {
          "base_uri": "https://localhost:8080/",
          "height": 35
        },
        "outputId": "e085848d-cf3f-49f5-b612-9dd65fd04103"
      },
      "source": [
        "cd EPAi/S3"
      ],
      "execution_count": 2,
      "outputs": [
        {
          "output_type": "stream",
          "text": [
            "/content/EPAi/S3\n"
          ],
          "name": "stdout"
        }
      ]
    },
    {
      "cell_type": "code",
      "metadata": {
        "id": "xajZTUAPODST",
        "colab_type": "code",
        "colab": {
          "base_uri": "https://localhost:8080/",
          "height": 1000
        },
        "outputId": "c40b292e-afc0-4c43-b8f9-af6ed4f54d91"
      },
      "source": [
        "!python -m pytest test_session3.py"
      ],
      "execution_count": 3,
      "outputs": [
        {
          "output_type": "stream",
          "text": [
            "\u001b[1m============================= test session starts ==============================\u001b[0m\n",
            "platform linux -- Python 3.6.9, pytest-3.6.4, py-1.9.0, pluggy-0.7.1\n",
            "rootdir: /content/EPAi/S3, inifile:\n",
            "plugins: typeguard-2.7.1\n",
            "\u001b[1m\rcollecting 0 items                                                             \u001b[0m\u001b[1m\rcollecting 19 items                                                            \u001b[0m\u001b[1m\rcollected 19 items                                                             \u001b[0m\n",
            "\n",
            "test_session3.py ......FFFFFFFF.F...\u001b[36m                                     [100%]\u001b[0m\n",
            "\n",
            "=================================== FAILURES ===================================\n",
            "\u001b[31m\u001b[1m_________________________ test_invalid_base_valueerror _________________________\u001b[0m\n",
            "\n",
            "\u001b[1m    def test_invalid_base_valueerror():\u001b[0m\n",
            "\u001b[1m        with pytest.raises(ValueError):\u001b[0m\n",
            "\u001b[1m>           session3.encoded_from_base10(10, -1, '1234567890')\u001b[0m\n",
            "\u001b[1m\u001b[31mE           Failed: DID NOT RAISE <class 'ValueError'>\u001b[0m\n",
            "\n",
            "\u001b[1m\u001b[31mtest_session3.py\u001b[0m:85: Failed\n",
            "\u001b[31m\u001b[1m____________ test_invalid_base_valueerror_provides_relevant_message ____________\u001b[0m\n",
            "\n",
            "\u001b[1m    def test_invalid_base_valueerror_provides_relevant_message():\u001b[0m\n",
            "\u001b[1m        with pytest.raises(ValueError, match=r\".* base .*\"):\u001b[0m\n",
            "\u001b[1m>           session3.encoded_from_base10(10, -1, '1234567890')\u001b[0m\n",
            "\u001b[1m\u001b[31mE           Failed: DID NOT RAISE <class 'ValueError'>\u001b[0m\n",
            "\n",
            "\u001b[1m\u001b[31mtest_session3.py\u001b[0m:93: Failed\n",
            "\u001b[31m\u001b[1m_______________________ test_innacurate_digit_map_length _______________________\u001b[0m\n",
            "\n",
            "\u001b[1m    def test_innacurate_digit_map_length():\u001b[0m\n",
            "\u001b[1m        with pytest.raises(ValueError):\u001b[0m\n",
            "\u001b[1m>           session3.encoded_from_base10(123123, 16, '0123456789abcde')\u001b[0m\n",
            "\u001b[1m\u001b[31mE           Failed: DID NOT RAISE <class 'ValueError'>\u001b[0m\n",
            "\n",
            "\u001b[1m\u001b[31mtest_session3.py\u001b[0m:97: Failed\n",
            "\u001b[31m\u001b[1m_________________________ test_hexadecimal_conversions _________________________\u001b[0m\n",
            "\n",
            "\u001b[1m    def test_hexadecimal_conversions():\u001b[0m\n",
            "\u001b[1m        for _ in range(50):\u001b[0m\n",
            "\u001b[1m            r_num = random.randint(0, 32767)\u001b[0m\n",
            "\u001b[1m>           assert (session3.encoded_from_base10(r_num, 16, '0123456789abcdef').lower() ) == hex(r_num)[2:], f\"Your program returned wrong HEX conversions\"\u001b[0m\n",
            "\u001b[1m\u001b[31mE           AssertionError: Your program returned wrong HEX conversions\u001b[0m\n",
            "\u001b[1m\u001b[31mE           assert '123abc' == '7dbd'\u001b[0m\n",
            "\u001b[1m\u001b[31mE             - 123abc\u001b[0m\n",
            "\u001b[1m\u001b[31mE             + 7dbd\u001b[0m\n",
            "\n",
            "\u001b[1m\u001b[31mtest_session3.py\u001b[0m:106: AssertionError\n",
            "\u001b[31m\u001b[1m____________________ test_negative_hexadecimal_conversions _____________________\u001b[0m\n",
            "\n",
            "\u001b[1m    def test_negative_hexadecimal_conversions():\u001b[0m\n",
            "\u001b[1m        for _ in range(50):\u001b[0m\n",
            "\u001b[1m            r_num = random.randint(-32700, -1)\u001b[0m\n",
            "\u001b[1m>           assert (session3.encoded_from_base10(r_num, 16, '0123456789abcdef').lower() ) == '-' + hex(r_num)[3:], f\"Your program returned wrong HEX conversions\"\u001b[0m\n",
            "\u001b[1m\u001b[31mE           AssertionError: Your program returned wrong HEX conversions\u001b[0m\n",
            "\u001b[1m\u001b[31mE           assert '123abc' == '-7e39'\u001b[0m\n",
            "\u001b[1m\u001b[31mE             - 123abc\u001b[0m\n",
            "\u001b[1m\u001b[31mE             + -7e39\u001b[0m\n",
            "\n",
            "\u001b[1m\u001b[31mtest_session3.py\u001b[0m:111: AssertionError\n",
            "\u001b[31m\u001b[1m______________________ test_repeating_digits_in_digit_map ______________________\u001b[0m\n",
            "\n",
            "\u001b[1m    def test_repeating_digits_in_digit_map():\u001b[0m\n",
            "\u001b[1m        with pytest.raises(ValueError):\u001b[0m\n",
            "\u001b[1m>           session3.encoded_from_base10(10, 10, '0123401234')\u001b[0m\n",
            "\u001b[1m\u001b[31mE           Failed: DID NOT RAISE <class 'ValueError'>\u001b[0m\n",
            "\n",
            "\u001b[1m\u001b[31mtest_session3.py\u001b[0m:116: Failed\n",
            "\u001b[31m\u001b[1m__________ test_repeating_digits_valueerror_provides_relevant_message __________\u001b[0m\n",
            "\n",
            "\u001b[1m    def test_repeating_digits_valueerror_provides_relevant_message():\u001b[0m\n",
            "\u001b[1m        with pytest.raises(ValueError, match=r\".* repeating .*\"):\u001b[0m\n",
            "\u001b[1m>           session3.encoded_from_base10(10, 10, '012AB012ab'), 'Something is fishy! You are not using word \"repeating\" while talking about an error releated to \"repeating\" alphanumerics!!'\u001b[0m\n",
            "\u001b[1m\u001b[31mE           Failed: DID NOT RAISE <class 'ValueError'>\u001b[0m\n",
            "\n",
            "\u001b[1m\u001b[31mtest_session3.py\u001b[0m:120: Failed\n",
            "\u001b[31m\u001b[1m_________________________ test_float_equality_testing __________________________\u001b[0m\n",
            "\n",
            "\u001b[1m    def test_float_equality_testing():\u001b[0m\n",
            "\u001b[1m        for _ in range(10000):\u001b[0m\n",
            "\u001b[1m            scale = random.randint(1, 1000000)\u001b[0m\n",
            "\u001b[1m            a = random.uniform(-1.5, 1.6)\u001b[0m\n",
            "\u001b[1m            a, b = a * scale, a * scale - a / scale\u001b[0m\n",
            "\u001b[1m>           assert session3.float_equality_testing(a, b) == math.isclose(a, b, rel_tol = 1e-12, abs_tol=1e-05), 'Aap jis number se sampark karna chahte hai, woh is samay uplabdh nahi hai, kripya thodi der baad prayas karein. The numbers you are trying to check right now are not equal, please try again later'\u001b[0m\n",
            "\u001b[1m\u001b[31mE           AssertionError: Aap jis number se sampark karna chahte hai, woh is samay uplabdh nahi hai, kripya thodi der baad prayas karein. The numbers you are trying to check right now are not equal, please try again later\u001b[0m\n",
            "\u001b[1m\u001b[31mE           assert False == True\u001b[0m\n",
            "\u001b[1m\u001b[31mE            +  where False = <function float_equality_testing at 0x7f6139e442f0>(-1043907.1275226659, -1043907.1275210285)\u001b[0m\n",
            "\u001b[1m\u001b[31mE            +    where <function float_equality_testing at 0x7f6139e442f0> = session3.float_equality_testing\u001b[0m\n",
            "\u001b[1m\u001b[31mE            +  and   True = <built-in function isclose>(-1043907.1275226659, -1043907.1275210285, rel_tol=1e-12, abs_tol=1e-05)\u001b[0m\n",
            "\u001b[1m\u001b[31mE            +    where <built-in function isclose> = math.isclose\u001b[0m\n",
            "\n",
            "\u001b[1m\u001b[31mtest_session3.py\u001b[0m:127: AssertionError\n",
            "\u001b[31m\u001b[1m__________________________ test_fraction_used_or_not ___________________________\u001b[0m\n",
            "\n",
            "\u001b[1m    def test_fraction_used_or_not():\u001b[0m\n",
            "\u001b[1m        code_lines = inspect.getsource(session3)\u001b[0m\n",
            "\u001b[1m>       assert 'fractions' in code_lines, 'Fractions not used! You must use fractions'\u001b[0m\n",
            "\u001b[1m\u001b[31mE       AssertionError: Fractions not used! You must use fractions\u001b[0m\n",
            "\u001b[1m\u001b[31mE       assert 'fractions' in 'def encoded_from_base10(number, base, digit_map):\\n    \\'\\'\\'\\n    This function returns a string encoding in the \"ba... use INT constructor? Well you can\\'t. \\n    Hint: use FRACTIONS and extract numerator. \\n    \\'\\'\\'\\n    return 3.0\\n'\u001b[0m\n",
            "\n",
            "\u001b[1m\u001b[31mtest_session3.py\u001b[0m:136: AssertionError\n",
            "\u001b[31m\u001b[1m===================== 9 failed, 10 passed in 0.12 seconds ======================\u001b[0m\n"
          ],
          "name": "stdout"
        }
      ]
    }
  ]
}