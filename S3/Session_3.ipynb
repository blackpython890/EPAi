{
  "nbformat": 4,
  "nbformat_minor": 0,
  "metadata": {
    "colab": {
      "name": "Session:3.ipynb",
      "provenance": [],
      "authorship_tag": "ABX9TyO3OGR01bAjj/5L855nxAKs",
      "include_colab_link": true
    },
    "kernelspec": {
      "name": "python3",
      "display_name": "Python 3"
    }
  },
  "cells": [
    {
      "cell_type": "markdown",
      "metadata": {
        "id": "view-in-github",
        "colab_type": "text"
      },
      "source": [
        "<a href=\"https://colab.research.google.com/github/jagatabhay/EPAi/blob/master/S3/Session_3.ipynb\" target=\"_parent\"><img src=\"https://colab.research.google.com/assets/colab-badge.svg\" alt=\"Open In Colab\"/></a>"
      ]
    },
    {
      "cell_type": "code",
      "metadata": {
        "id": "9MUeJqORNHQA",
        "colab_type": "code",
        "colab": {
          "base_uri": "https://localhost:8080/",
          "height": 146
        },
        "outputId": "94296c45-6008-40a1-c38a-0469ee8d2b00"
      },
      "source": [
        "!git clone https://github.com/jagatabhay/EPAi.git"
      ],
      "execution_count": 1,
      "outputs": [
        {
          "output_type": "stream",
          "text": [
            "Cloning into 'EPAi'...\n",
            "remote: Enumerating objects: 32, done.\u001b[K\n",
            "remote: Counting objects:   3% (1/32)\u001b[K\rremote: Counting objects:   6% (2/32)\u001b[K\rremote: Counting objects:   9% (3/32)\u001b[K\rremote: Counting objects:  12% (4/32)\u001b[K\rremote: Counting objects:  15% (5/32)\u001b[K\rremote: Counting objects:  18% (6/32)\u001b[K\rremote: Counting objects:  21% (7/32)\u001b[K\rremote: Counting objects:  25% (8/32)\u001b[K\rremote: Counting objects:  28% (9/32)\u001b[K\rremote: Counting objects:  31% (10/32)\u001b[K\rremote: Counting objects:  34% (11/32)\u001b[K\rremote: Counting objects:  37% (12/32)\u001b[K\rremote: Counting objects:  40% (13/32)\u001b[K\rremote: Counting objects:  43% (14/32)\u001b[K\rremote: Counting objects:  46% (15/32)\u001b[K\rremote: Counting objects:  50% (16/32)\u001b[K\rremote: Counting objects:  53% (17/32)\u001b[K\rremote: Counting objects:  56% (18/32)\u001b[K\rremote: Counting objects:  59% (19/32)\u001b[K\rremote: Counting objects:  62% (20/32)\u001b[K\rremote: Counting objects:  65% (21/32)\u001b[K\rremote: Counting objects:  68% (22/32)\u001b[K\rremote: Counting objects:  71% (23/32)\u001b[K\rremote: Counting objects:  75% (24/32)\u001b[K\rremote: Counting objects:  78% (25/32)\u001b[K\rremote: Counting objects:  81% (26/32)\u001b[K\rremote: Counting objects:  84% (27/32)\u001b[K\rremote: Counting objects:  87% (28/32)\u001b[K\rremote: Counting objects:  90% (29/32)\u001b[K\rremote: Counting objects:  93% (30/32)\u001b[K\rremote: Counting objects:  96% (31/32)\u001b[K\rremote: Counting objects: 100% (32/32)\u001b[K\rremote: Counting objects: 100% (32/32), done.\u001b[K\n",
            "remote: Compressing objects:   3% (1/32)\u001b[K\rremote: Compressing objects:   6% (2/32)\u001b[K\rremote: Compressing objects:   9% (3/32)\u001b[K\rremote: Compressing objects:  12% (4/32)\u001b[K\rremote: Compressing objects:  15% (5/32)\u001b[K\rremote: Compressing objects:  18% (6/32)\u001b[K\rremote: Compressing objects:  21% (7/32)\u001b[K\rremote: Compressing objects:  25% (8/32)\u001b[K\rremote: Compressing objects:  28% (9/32)\u001b[K\rremote: Compressing objects:  31% (10/32)\u001b[K\rremote: Compressing objects:  34% (11/32)\u001b[K\rremote: Compressing objects:  37% (12/32)\u001b[K\rremote: Compressing objects:  40% (13/32)\u001b[K\rremote: Compressing objects:  43% (14/32)\u001b[K\rremote: Compressing objects:  46% (15/32)\u001b[K\rremote: Compressing objects:  50% (16/32)\u001b[K\rremote: Compressing objects:  53% (17/32)\u001b[K\rremote: Compressing objects:  56% (18/32)\u001b[K\rremote: Compressing objects:  59% (19/32)\u001b[K\rremote: Compressing objects:  62% (20/32)\u001b[K\rremote: Compressing objects:  65% (21/32)\u001b[K\rremote: Compressing objects:  68% (22/32)\u001b[K\rremote: Compressing objects:  71% (23/32)\u001b[K\rremote: Compressing objects:  75% (24/32)\u001b[K\rremote: Compressing objects:  78% (25/32)\u001b[K\rremote: Compressing objects:  81% (26/32)\u001b[K\rremote: Compressing objects:  84% (27/32)\u001b[K\rremote: Compressing objects:  87% (28/32)\u001b[K\rremote: Compressing objects:  90% (29/32)\u001b[K\rremote: Compressing objects:  93% (30/32)\u001b[K\rremote: Compressing objects:  96% (31/32)\u001b[K\rremote: Compressing objects: 100% (32/32)\u001b[K\rremote: Compressing objects: 100% (32/32), done.\u001b[K\n",
            "Receiving objects:   0% (1/304)   \rReceiving objects:   1% (4/304)   \rReceiving objects:   2% (7/304)   \rReceiving objects:   3% (10/304)   \rReceiving objects:   4% (13/304)   \rReceiving objects:   5% (16/304)   \rReceiving objects:   6% (19/304)   \rReceiving objects:   7% (22/304)   \rReceiving objects:   8% (25/304)   \rReceiving objects:   9% (28/304)   \rReceiving objects:  10% (31/304)   \rReceiving objects:  11% (34/304)   \rReceiving objects:  12% (37/304)   \rReceiving objects:  13% (40/304)   \rReceiving objects:  14% (43/304)   \rReceiving objects:  15% (46/304)   \rReceiving objects:  16% (49/304)   \rReceiving objects:  17% (52/304)   \rReceiving objects:  18% (55/304)   \rReceiving objects:  19% (58/304)   \rReceiving objects:  20% (61/304)   \rReceiving objects:  21% (64/304)   \rReceiving objects:  22% (67/304)   \rReceiving objects:  23% (70/304)   \rReceiving objects:  24% (73/304)   \rReceiving objects:  25% (76/304)   \rReceiving objects:  26% (80/304)   \rReceiving objects:  27% (83/304)   \rReceiving objects:  28% (86/304)   \rReceiving objects:  29% (89/304)   \rReceiving objects:  30% (92/304)   \rremote: Total 304 (delta 14), reused 0 (delta 0), pack-reused 272\u001b[K\n",
            "Receiving objects:  31% (95/304)   \rReceiving objects:  32% (98/304)   \rReceiving objects:  33% (101/304)   \rReceiving objects:  34% (104/304)   \rReceiving objects:  35% (107/304)   \rReceiving objects:  36% (110/304)   \rReceiving objects:  37% (113/304)   \rReceiving objects:  38% (116/304)   \rReceiving objects:  39% (119/304)   \rReceiving objects:  40% (122/304)   \rReceiving objects:  41% (125/304)   \rReceiving objects:  42% (128/304)   \rReceiving objects:  43% (131/304)   \rReceiving objects:  44% (134/304)   \rReceiving objects:  45% (137/304)   \rReceiving objects:  46% (140/304)   \rReceiving objects:  47% (143/304)   \rReceiving objects:  48% (146/304)   \rReceiving objects:  49% (149/304)   \rReceiving objects:  50% (152/304)   \rReceiving objects:  51% (156/304)   \rReceiving objects:  52% (159/304)   \rReceiving objects:  53% (162/304)   \rReceiving objects:  54% (165/304)   \rReceiving objects:  55% (168/304)   \rReceiving objects:  56% (171/304)   \rReceiving objects:  57% (174/304)   \rReceiving objects:  58% (177/304)   \rReceiving objects:  59% (180/304)   \rReceiving objects:  60% (183/304)   \rReceiving objects:  61% (186/304)   \rReceiving objects:  62% (189/304)   \rReceiving objects:  63% (192/304)   \rReceiving objects:  64% (195/304)   \rReceiving objects:  65% (198/304)   \rReceiving objects:  66% (201/304)   \rReceiving objects:  67% (204/304)   \rReceiving objects:  68% (207/304)   \rReceiving objects:  69% (210/304)   \rReceiving objects:  70% (213/304)   \rReceiving objects:  71% (216/304)   \rReceiving objects:  72% (219/304)   \rReceiving objects:  73% (222/304)   \rReceiving objects:  74% (225/304)   \rReceiving objects:  75% (228/304)   \rReceiving objects:  76% (232/304)   \rReceiving objects:  77% (235/304)   \rReceiving objects:  78% (238/304)   \rReceiving objects:  79% (241/304)   \rReceiving objects:  80% (244/304)   \rReceiving objects:  81% (247/304)   \rReceiving objects:  82% (250/304)   \rReceiving objects:  83% (253/304)   \rReceiving objects:  84% (256/304)   \rReceiving objects:  85% (259/304)   \rReceiving objects:  86% (262/304)   \rReceiving objects:  87% (265/304)   \rReceiving objects:  88% (268/304)   \rReceiving objects:  89% (271/304)   \rReceiving objects:  90% (274/304)   \rReceiving objects:  91% (277/304)   \rReceiving objects:  92% (280/304)   \rReceiving objects:  93% (283/304)   \rReceiving objects:  94% (286/304)   \rReceiving objects:  95% (289/304)   \rReceiving objects:  96% (292/304)   \rReceiving objects:  97% (295/304)   \rReceiving objects:  98% (298/304)   \rReceiving objects:  99% (301/304)   \rReceiving objects: 100% (304/304)   \rReceiving objects: 100% (304/304), 78.05 KiB | 3.39 MiB/s, done.\n",
            "Resolving deltas:   0% (0/114)   \rResolving deltas:   1% (2/114)   \rResolving deltas:   4% (5/114)   \rResolving deltas:  43% (50/114)   \rResolving deltas:  45% (52/114)   \rResolving deltas:  50% (58/114)   \rResolving deltas:  57% (66/114)   \rResolving deltas:  59% (68/114)   \rResolving deltas:  60% (69/114)   \rResolving deltas:  70% (80/114)   \rResolving deltas:  74% (85/114)   \rResolving deltas:  76% (87/114)   \rResolving deltas:  80% (92/114)   \rResolving deltas:  84% (96/114)   \rResolving deltas:  85% (97/114)   \rResolving deltas:  86% (99/114)   \rResolving deltas:  92% (106/114)   \rResolving deltas:  93% (107/114)   \rResolving deltas:  94% (108/114)   \rResolving deltas:  95% (109/114)   \rResolving deltas: 100% (114/114)   \rResolving deltas: 100% (114/114), done.\n"
          ],
          "name": "stdout"
        }
      ]
    },
    {
      "cell_type": "code",
      "metadata": {
        "id": "n9btAzm2NSNq",
        "colab_type": "code",
        "colab": {
          "base_uri": "https://localhost:8080/",
          "height": 35
        },
        "outputId": "4dc956c1-81c2-40e2-c4f1-065ff9cd251a"
      },
      "source": [
        "cd EPAi/S3"
      ],
      "execution_count": 2,
      "outputs": [
        {
          "output_type": "stream",
          "text": [
            "/content/EPAi/S3\n"
          ],
          "name": "stdout"
        }
      ]
    },
    {
      "cell_type": "code",
      "metadata": {
        "id": "xajZTUAPODST",
        "colab_type": "code",
        "colab": {
          "base_uri": "https://localhost:8080/",
          "height": 183
        },
        "outputId": "5447b069-4eed-454a-a104-b139a725d261"
      },
      "source": [
        "!python -m pytest test_session3.py"
      ],
      "execution_count": 3,
      "outputs": [
        {
          "output_type": "stream",
          "text": [
            "\u001b[1m============================= test session starts ==============================\u001b[0m\n",
            "platform linux -- Python 3.6.9, pytest-3.6.4, py-1.9.0, pluggy-0.7.1\n",
            "rootdir: /content/EPAi/S3, inifile:\n",
            "plugins: typeguard-2.7.1\n",
            "\u001b[1m\rcollecting 0 items                                                             \u001b[0m\u001b[1m\rcollecting 19 items                                                            \u001b[0m\u001b[1m\rcollected 19 items                                                             \u001b[0m\n",
            "\n",
            "test_session3.py ...................\u001b[36m                                     [100%]\u001b[0m\n",
            "\n",
            "\u001b[32m\u001b[1m========================== 19 passed in 0.09 seconds ===========================\u001b[0m\n"
          ],
          "name": "stdout"
        }
      ]
    }
  ]
}