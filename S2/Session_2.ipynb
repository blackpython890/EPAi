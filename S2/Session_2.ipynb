{
  "nbformat": 4,
  "nbformat_minor": 0,
  "metadata": {
    "colab": {
      "name": "Session:2.ipynb",
      "provenance": [],
      "collapsed_sections": [],
      "authorship_tag": "ABX9TyOQ3mtFRewJtkh/01UCX2O7",
      "include_colab_link": true
    },
    "kernelspec": {
      "name": "python3",
      "display_name": "Python 3"
    }
  },
  "cells": [
    {
      "cell_type": "markdown",
      "metadata": {
        "id": "view-in-github",
        "colab_type": "text"
      },
      "source": [
        "<a href=\"https://colab.research.google.com/github/jagatabhay/EPAi/blob/master/S2/Session_2.ipynb\" target=\"_parent\"><img src=\"https://colab.research.google.com/assets/colab-badge.svg\" alt=\"Open In Colab\"/></a>"
      ]
    },
    {
      "cell_type": "code",
      "metadata": {
        "id": "VzKmFlX86qVs",
        "colab_type": "code",
        "colab": {
          "base_uri": "https://localhost:8080/",
          "height": 146
        },
        "outputId": "1088072e-738d-413e-81d5-b7424b6869f8"
      },
      "source": [
        "!git clone https://github.com/jagatabhay/EPAi.git"
      ],
      "execution_count": 1,
      "outputs": [
        {
          "output_type": "stream",
          "text": [
            "Cloning into 'EPAi'...\n",
            "remote: Enumerating objects: 60, done.\u001b[K\n",
            "remote: Counting objects: 100% (60/60), done.\u001b[K\n",
            "remote: Compressing objects: 100% (57/57), done.\u001b[K\n",
            "remote: Total 165 (delta 24), reused 0 (delta 0), pack-reused 105\u001b[K\n",
            "Receiving objects: 100% (165/165), 39.77 KiB | 222.00 KiB/s, done.\n",
            "Resolving deltas: 100% (47/47), done.\n"
          ],
          "name": "stdout"
        }
      ]
    },
    {
      "cell_type": "code",
      "metadata": {
        "id": "oBXuA_jzdpr5",
        "colab_type": "code",
        "colab": {
          "base_uri": "https://localhost:8080/",
          "height": 35
        },
        "outputId": "1c85716d-3f82-4eb4-8005-2f6eee2a43e9"
      },
      "source": [
        "cd EPAi/S2"
      ],
      "execution_count": 2,
      "outputs": [
        {
          "output_type": "stream",
          "text": [
            "/content/EPAi/S2\n"
          ],
          "name": "stdout"
        }
      ]
    },
    {
      "cell_type": "code",
      "metadata": {
        "id": "cM7TNW2E7rNJ",
        "colab_type": "code",
        "colab": {}
      },
      "source": [
        "import pytest"
      ],
      "execution_count": 3,
      "outputs": []
    },
    {
      "cell_type": "code",
      "metadata": {
        "id": "_i9Ugb0bdxro",
        "colab_type": "code",
        "colab": {
          "base_uri": "https://localhost:8080/",
          "height": 1000
        },
        "outputId": "ede8a812-f9b5-4461-b88f-76c637bd8c99"
      },
      "source": [
        "!python -m pytest test_session2.py"
      ],
      "execution_count": 4,
      "outputs": [
        {
          "output_type": "stream",
          "text": [
            "\u001b[1m============================= test session starts ==============================\u001b[0m\n",
            "platform linux -- Python 3.6.9, pytest-3.6.4, py-1.9.0, pluggy-0.7.1\n",
            "rootdir: /content/EPAi/S2, inifile:\n",
            "plugins: typeguard-2.7.1\n",
            "collected 10 items                                                             \u001b[0m\n",
            "\n",
            "test_session2.py ..F.FFF...\u001b[36m                                              [100%]\u001b[0m\n",
            "\n",
            "=================================== FAILURES ===================================\n",
            "\u001b[31m\u001b[1m_______________________________ test_performance _______________________________\u001b[0m\n",
            "\n",
            "\u001b[1m    def test_performance():\u001b[0m\n",
            "\u001b[1m        start1 = time.perf_counter()\u001b[0m\n",
            "\u001b[1m        session2.compare_strings_old(10000000)\u001b[0m\n",
            "\u001b[1m        end1 = time.perf_counter()\u001b[0m\n",
            "\u001b[1m        delta1 = end1-start1\u001b[0m\n",
            "\u001b[1m    \u001b[0m\n",
            "\u001b[1m        start2 = time.perf_counter()\u001b[0m\n",
            "\u001b[1m        session2.compare_strings_new(10000000)\u001b[0m\n",
            "\u001b[1m        end2 = time.perf_counter()\u001b[0m\n",
            "\u001b[1m        delta2 = end2-start2\u001b[0m\n",
            "\u001b[1m    \u001b[0m\n",
            "\u001b[1m>       assert delta1/delta2 >= 10.0\u001b[0m\n",
            "\u001b[1m\u001b[31mE       assert (6.304815619999999 / 6.006107298999993) >= 10.0\u001b[0m\n",
            "\n",
            "\u001b[1m\u001b[31mtest_session2.py\u001b[0m:54: AssertionError\n",
            "\u001b[31m\u001b[1m_____________________________ test_readme_contents _____________________________\u001b[0m\n",
            "\n",
            "\u001b[1m    def test_readme_contents():\u001b[0m\n",
            "\u001b[1m        readme = open(\"README.md\", \"r\")\u001b[0m\n",
            "\u001b[1m        readme_words = readme.read().split()\u001b[0m\n",
            "\u001b[1m        readme.close()\u001b[0m\n",
            "\u001b[1m>       assert len(readme_words) >= 500, \"Make your README.md file interesting! Add atleast 500 words\"\u001b[0m\n",
            "\u001b[1m\u001b[31mE       AssertionError: Make your README.md file interesting! Add atleast 500 words\u001b[0m\n",
            "\u001b[1m\u001b[31mE       assert 3 >= 500\u001b[0m\n",
            "\u001b[1m\u001b[31mE        +  where 3 = len(['#', 'Session:', '2'])\u001b[0m\n",
            "\n",
            "\u001b[1m\u001b[31mtest_session2.py\u001b[0m:63: AssertionError\n",
            "\u001b[31m\u001b[1m________________________ test_readme_proper_description ________________________\u001b[0m\n",
            "\n",
            "\u001b[1m    def test_readme_proper_description():\u001b[0m\n",
            "\u001b[1m        READMELOOKSGOOD = True\u001b[0m\n",
            "\u001b[1m        f = open(\"README.md\", \"r\")\u001b[0m\n",
            "\u001b[1m        content = f.read()\u001b[0m\n",
            "\u001b[1m        f.close()\u001b[0m\n",
            "\u001b[1m        for c in README_CONTENT_CHECK_FOR:\u001b[0m\n",
            "\u001b[1m            if c not in content:\u001b[0m\n",
            "\u001b[1m                READMELOOKSGOOD = False\u001b[0m\n",
            "\u001b[1m                pass\u001b[0m\n",
            "\u001b[1m>       assert READMELOOKSGOOD == True, \"You have not described all the functions/class well in your README.md file\"\u001b[0m\n",
            "\u001b[1m\u001b[31mE       AssertionError: You have not described all the functions/class well in your README.md file\u001b[0m\n",
            "\u001b[1m\u001b[31mE       assert False == True\u001b[0m\n",
            "\n",
            "\u001b[1m\u001b[31mtest_session2.py\u001b[0m:74: AssertionError\n",
            "\u001b[31m\u001b[1m_______________________ test_readme_file_for_formatting ________________________\u001b[0m\n",
            "\n",
            "\u001b[1m    def test_readme_file_for_formatting():\u001b[0m\n",
            "\u001b[1m        f = open(\"README.md\", \"r\")\u001b[0m\n",
            "\u001b[1m        content = f.read()\u001b[0m\n",
            "\u001b[1m        f.close()\u001b[0m\n",
            "\u001b[1m>       assert content.count(\"#\") >= 10\u001b[0m\n",
            "\u001b[1m\u001b[31mE       AssertionError: assert 1 >= 10\u001b[0m\n",
            "\u001b[1m\u001b[31mE        +  where 1 = <built-in method count of str object at 0x7f4f576d1fb0>('#')\u001b[0m\n",
            "\u001b[1m\u001b[31mE        +    where <built-in method count of str object at 0x7f4f576d1fb0> = '# Session: 2\\n'.count\u001b[0m\n",
            "\n",
            "\u001b[1m\u001b[31mtest_session2.py\u001b[0m:80: AssertionError\n",
            "\u001b[31m\u001b[1m===================== 4 failed, 6 passed in 18.00 seconds ======================\u001b[0m\n"
          ],
          "name": "stdout"
        }
      ]
    }
  ]
}