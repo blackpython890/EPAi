{
  "nbformat": 4,
  "nbformat_minor": 0,
  "metadata": {
    "colab": {
      "name": "Session:2.ipynb",
      "provenance": [],
      "collapsed_sections": [],
      "authorship_tag": "ABX9TyO/wmPMvOJ6p+bnFpj6+xjZ",
      "include_colab_link": true
    },
    "kernelspec": {
      "name": "python3",
      "display_name": "Python 3"
    }
  },
  "cells": [
    {
      "cell_type": "markdown",
      "metadata": {
        "id": "view-in-github",
        "colab_type": "text"
      },
      "source": [
        "<a href=\"https://colab.research.google.com/github/jagatabhay/EPAi/blob/master/Session_2.ipynb\" target=\"_parent\"><img src=\"https://colab.research.google.com/assets/colab-badge.svg\" alt=\"Open In Colab\"/></a>"
      ]
    },
    {
      "cell_type": "code",
      "metadata": {
        "id": "VzKmFlX86qVs",
        "colab_type": "code",
        "colab": {
          "base_uri": "https://localhost:8080/",
          "height": 146
        },
        "outputId": "b2b387b1-bbc3-4fc0-c780-8c9202889b73"
      },
      "source": [
        "!git clone https://github.com/jagatabhay/EPAi.git"
      ],
      "execution_count": 1,
      "outputs": [
        {
          "output_type": "stream",
          "text": [
            "Cloning into 'EPAi'...\n",
            "remote: Enumerating objects: 52, done.\u001b[K\n",
            "remote: Counting objects:   1% (1/52)\u001b[K\rremote: Counting objects:   3% (2/52)\u001b[K\rremote: Counting objects:   5% (3/52)\u001b[K\rremote: Counting objects:   7% (4/52)\u001b[K\rremote: Counting objects:   9% (5/52)\u001b[K\rremote: Counting objects:  11% (6/52)\u001b[K\rremote: Counting objects:  13% (7/52)\u001b[K\rremote: Counting objects:  15% (8/52)\u001b[K\rremote: Counting objects:  17% (9/52)\u001b[K\rremote: Counting objects:  19% (10/52)\u001b[K\rremote: Counting objects:  21% (11/52)\u001b[K\rremote: Counting objects:  23% (12/52)\u001b[K\rremote: Counting objects:  25% (13/52)\u001b[K\rremote: Counting objects:  26% (14/52)\u001b[K\rremote: Counting objects:  28% (15/52)\u001b[K\rremote: Counting objects:  30% (16/52)\u001b[K\rremote: Counting objects:  32% (17/52)\u001b[K\rremote: Counting objects:  34% (18/52)\u001b[K\rremote: Counting objects:  36% (19/52)\u001b[K\rremote: Counting objects:  38% (20/52)\u001b[K\rremote: Counting objects:  40% (21/52)\u001b[K\rremote: Counting objects:  42% (22/52)\u001b[K\rremote: Counting objects:  44% (23/52)\u001b[K\rremote: Counting objects:  46% (24/52)\u001b[K\rremote: Counting objects:  48% (25/52)\u001b[K\rremote: Counting objects:  50% (26/52)\u001b[K\rremote: Counting objects:  51% (27/52)\u001b[K\rremote: Counting objects:  53% (28/52)\u001b[K\rremote: Counting objects:  55% (29/52)\u001b[K\rremote: Counting objects:  57% (30/52)\u001b[K\rremote: Counting objects:  59% (31/52)\u001b[K\rremote: Counting objects:  61% (32/52)\u001b[K\rremote: Counting objects:  63% (33/52)\u001b[K\rremote: Counting objects:  65% (34/52)\u001b[K\rremote: Counting objects:  67% (35/52)\u001b[K\rremote: Counting objects:  69% (36/52)\u001b[K\rremote: Counting objects:  71% (37/52)\u001b[K\rremote: Counting objects:  73% (38/52)\u001b[K\rremote: Counting objects:  75% (39/52)\u001b[K\rremote: Counting objects:  76% (40/52)\u001b[K\rremote: Counting objects:  78% (41/52)\u001b[K\rremote: Counting objects:  80% (42/52)\u001b[K\rremote: Counting objects:  82% (43/52)\u001b[K\rremote: Counting objects:  84% (44/52)\u001b[K\rremote: Counting objects:  86% (45/52)\u001b[K\rremote: Counting objects:  88% (46/52)\u001b[K\rremote: Counting objects:  90% (47/52)\u001b[K\rremote: Counting objects:  92% (48/52)\u001b[K\rremote: Counting objects:  94% (49/52)\u001b[K\rremote: Counting objects:  96% (50/52)\u001b[K\rremote: Counting objects:  98% (51/52)\u001b[K\rremote: Counting objects: 100% (52/52)\u001b[K\rremote: Counting objects: 100% (52/52), done.\u001b[K\n",
            "remote: Compressing objects:   2% (1/49)\u001b[K\rremote: Compressing objects:   4% (2/49)\u001b[K\rremote: Compressing objects:   6% (3/49)\u001b[K\rremote: Compressing objects:   8% (4/49)\u001b[K\rremote: Compressing objects:  10% (5/49)\u001b[K\rremote: Compressing objects:  12% (6/49)\u001b[K\rremote: Compressing objects:  14% (7/49)\u001b[K\rremote: Compressing objects:  16% (8/49)\u001b[K\rremote: Compressing objects:  18% (9/49)\u001b[K\rremote: Compressing objects:  20% (10/49)\u001b[K\rremote: Compressing objects:  22% (11/49)\u001b[K\rremote: Compressing objects:  24% (12/49)\u001b[K\rremote: Compressing objects:  26% (13/49)\u001b[K\rremote: Compressing objects:  28% (14/49)\u001b[K\rremote: Compressing objects:  30% (15/49)\u001b[K\rremote: Compressing objects:  32% (16/49)\u001b[K\rremote: Compressing objects:  34% (17/49)\u001b[K\rremote: Compressing objects:  36% (18/49)\u001b[K\rremote: Compressing objects:  38% (19/49)\u001b[K\rremote: Compressing objects:  40% (20/49)\u001b[K\rremote: Compressing objects:  42% (21/49)\u001b[K\rremote: Compressing objects:  44% (22/49)\u001b[K\rremote: Compressing objects:  46% (23/49)\u001b[K\rremote: Compressing objects:  48% (24/49)\u001b[K\rremote: Compressing objects:  51% (25/49)\u001b[K\rremote: Compressing objects:  53% (26/49)\u001b[K\rremote: Compressing objects:  55% (27/49)\u001b[K\rremote: Compressing objects:  57% (28/49)\u001b[K\rremote: Compressing objects:  59% (29/49)\u001b[K\rremote: Compressing objects:  61% (30/49)\u001b[K\rremote: Compressing objects:  63% (31/49)\u001b[K\rremote: Compressing objects:  65% (32/49)\u001b[K\rremote: Compressing objects:  67% (33/49)\u001b[K\rremote: Compressing objects:  69% (34/49)\u001b[K\rremote: Compressing objects:  71% (35/49)\u001b[K\rremote: Compressing objects:  73% (36/49)\u001b[K\rremote: Compressing objects:  75% (37/49)\u001b[K\rremote: Compressing objects:  77% (38/49)\u001b[K\rremote: Compressing objects:  79% (39/49)\u001b[K\rremote: Compressing objects:  81% (40/49)\u001b[K\rremote: Compressing objects:  83% (41/49)\u001b[K\rremote: Compressing objects:  85% (42/49)\u001b[K\rremote: Compressing objects:  87% (43/49)\u001b[K\rremote: Compressing objects:  89% (44/49)\u001b[K\rremote: Compressing objects:  91% (45/49)\u001b[K\rremote: Compressing objects:  93% (46/49)\u001b[K\rremote: Compressing objects:  95% (47/49)\u001b[K\rremote: Compressing objects:  97% (48/49)\u001b[K\rremote: Compressing objects: 100% (49/49)\u001b[K\rremote: Compressing objects: 100% (49/49), done.\u001b[K\n",
            "Receiving objects:   0% (1/157)   \rReceiving objects:   1% (2/157)   \rReceiving objects:   2% (4/157)   \rReceiving objects:   3% (5/157)   \rReceiving objects:   4% (7/157)   \rReceiving objects:   5% (8/157)   \rReceiving objects:   6% (10/157)   \rReceiving objects:   7% (11/157)   \rReceiving objects:   8% (13/157)   \rReceiving objects:   9% (15/157)   \rReceiving objects:  10% (16/157)   \rReceiving objects:  11% (18/157)   \rReceiving objects:  12% (19/157)   \rReceiving objects:  13% (21/157)   \rReceiving objects:  14% (22/157)   \rReceiving objects:  15% (24/157)   \rReceiving objects:  16% (26/157)   \rReceiving objects:  17% (27/157)   \rReceiving objects:  18% (29/157)   \rReceiving objects:  19% (30/157)   \rReceiving objects:  20% (32/157)   \rReceiving objects:  21% (33/157)   \rReceiving objects:  22% (35/157)   \rReceiving objects:  23% (37/157)   \rReceiving objects:  24% (38/157)   \rReceiving objects:  25% (40/157)   \rReceiving objects:  26% (41/157)   \rReceiving objects:  27% (43/157)   \rReceiving objects:  28% (44/157)   \rReceiving objects:  29% (46/157)   \rReceiving objects:  30% (48/157)   \rReceiving objects:  31% (49/157)   \rReceiving objects:  32% (51/157)   \rReceiving objects:  33% (52/157)   \rReceiving objects:  34% (54/157)   \rReceiving objects:  35% (55/157)   \rReceiving objects:  36% (57/157)   \rReceiving objects:  37% (59/157)   \rReceiving objects:  38% (60/157)   \rReceiving objects:  39% (62/157)   \rReceiving objects:  40% (63/157)   \rReceiving objects:  41% (65/157)   \rReceiving objects:  42% (66/157)   \rReceiving objects:  43% (68/157)   \rReceiving objects:  44% (70/157)   \rReceiving objects:  45% (71/157)   \rReceiving objects:  46% (73/157)   \rReceiving objects:  47% (74/157)   \rReceiving objects:  48% (76/157)   \rReceiving objects:  49% (77/157)   \rReceiving objects:  50% (79/157)   \rReceiving objects:  51% (81/157)   \rReceiving objects:  52% (82/157)   \rReceiving objects:  53% (84/157)   \rReceiving objects:  54% (85/157)   \rReceiving objects:  55% (87/157)   \rReceiving objects:  56% (88/157)   \rReceiving objects:  57% (90/157)   \rReceiving objects:  58% (92/157)   \rReceiving objects:  59% (93/157)   \rReceiving objects:  60% (95/157)   \rReceiving objects:  61% (96/157)   \rReceiving objects:  62% (98/157)   \rReceiving objects:  63% (99/157)   \rReceiving objects:  64% (101/157)   \rReceiving objects:  65% (103/157)   \rReceiving objects:  66% (104/157)   \rReceiving objects:  67% (106/157)   \rReceiving objects:  68% (107/157)   \rReceiving objects:  69% (109/157)   \rReceiving objects:  70% (110/157)   \rReceiving objects:  71% (112/157)   \rReceiving objects:  72% (114/157)   \rReceiving objects:  73% (115/157)   \rReceiving objects:  74% (117/157)   \rReceiving objects:  75% (118/157)   \rReceiving objects:  76% (120/157)   \rReceiving objects:  77% (121/157)   \rReceiving objects:  78% (123/157)   \rReceiving objects:  79% (125/157)   \rReceiving objects:  80% (126/157)   \rremote: Total 157 (delta 20), reused 0 (delta 0), pack-reused 105\u001b[K\n",
            "Receiving objects:  81% (128/157)   \rReceiving objects:  82% (129/157)   \rReceiving objects:  83% (131/157)   \rReceiving objects:  84% (132/157)   \rReceiving objects:  85% (134/157)   \rReceiving objects:  86% (136/157)   \rReceiving objects:  87% (137/157)   \rReceiving objects:  88% (139/157)   \rReceiving objects:  89% (140/157)   \rReceiving objects:  90% (142/157)   \rReceiving objects:  91% (143/157)   \rReceiving objects:  92% (145/157)   \rReceiving objects:  93% (147/157)   \rReceiving objects:  94% (148/157)   \rReceiving objects:  95% (150/157)   \rReceiving objects:  96% (151/157)   \rReceiving objects:  97% (153/157)   \rReceiving objects:  98% (154/157)   \rReceiving objects:  99% (156/157)   \rReceiving objects: 100% (157/157)   \rReceiving objects: 100% (157/157), 34.92 KiB | 489.00 KiB/s, done.\n",
            "Resolving deltas:   0% (0/43)   \rResolving deltas:   2% (1/43)   \rResolving deltas:  34% (15/43)   \rResolving deltas:  74% (32/43)   \rResolving deltas:  79% (34/43)   \rResolving deltas: 100% (43/43)   \rResolving deltas: 100% (43/43), done.\n"
          ],
          "name": "stdout"
        }
      ]
    },
    {
      "cell_type": "code",
      "metadata": {
        "id": "9gcl8nii7G92",
        "colab_type": "code",
        "colab": {}
      },
      "source": [
        "from EPAi.S2 import session2"
      ],
      "execution_count": 2,
      "outputs": []
    },
    {
      "cell_type": "code",
      "metadata": {
        "id": "cM7TNW2E7rNJ",
        "colab_type": "code",
        "colab": {}
      },
      "source": [
        "import subprocess\n",
        "import sys\n",
        "\n",
        "try:\n",
        "    import memory_profiler\n",
        "except ImportError:\n",
        "    subprocess.check_call([sys.executable, \"-m\", \"pip\", \"install\", 'memory-profiler'])\n",
        "finally:\n",
        "    import memory_profiler\n",
        "    \n",
        "from memory_profiler import memory_usage\n",
        "import pytest\n",
        "import time\n",
        "import os.path\n",
        "import re\n",
        "import inspect"
      ],
      "execution_count": 3,
      "outputs": []
    },
    {
      "cell_type": "code",
      "metadata": {
        "id": "sEK-9GX6-tSD",
        "colab_type": "code",
        "colab": {}
      },
      "source": [
        "README_CONTENT_CHECK_FOR = [\n",
        "    'Something',\n",
        "    'SomethingNew',\n",
        "    'add_something',\n",
        "    'clear_memory',\n",
        "    'critical_function',\n",
        "    'compare_strings_old',\n",
        "    'compare_strings_new',\n",
        "    'sleep',\n",
        "    'char_list',\n",
        "    'collection',\n",
        "    '__init__'\n",
        "]\n",
        "\n",
        "memory_used = []\n",
        "\n",
        "def test_clear_memory():\n",
        "    memory_used = memory_usage((session2.critical_function))\n",
        "    print(\"Memory Used \",memory_used)\n",
        "    print('Memory Calc ',memory_used[len(memory_used)-1])\n",
        "    print('memory_used[0] ',memory_used[0])\n",
        "    assert (memory_used[len(memory_used)-1] - memory_used[0]) < 4\n",
        "\n",
        "def test_memory_actually_increased():\n",
        "    # This test will check whether we are actually increase the memory during running the function f\n",
        "    memory_used2 = memory_usage((session2.critical_function))\n",
        "    peak = max(memory_used2)\n",
        "    print(\"Memory Used \",memory_used2)\n",
        "    print(\"Peak \",peak)\n",
        "    print(\"memory_used2[0] \" , memory_used2[0])\n",
        "    assert (peak - memory_used2[0]) > 8, \"Seems like you have changed the program! Are you trying to cheat!\"\n",
        "\n",
        "def test_performance():\n",
        "    start1 = time.perf_counter()\n",
        "    session2.compare_strings_old(10000000)\n",
        "    end1 = time.perf_counter()\n",
        "    delta1 = end1-start1\n",
        "\n",
        "    start2 = time.perf_counter()\n",
        "    session2.compare_strings_new(10000000)\n",
        "    end2 = time.perf_counter()\n",
        "    delta2 = end2-start2\n",
        "    \n",
        "    assert delta1/delta2 >= 10.0\n",
        "\n",
        "def test_readme_exists():\n",
        "    assert os.path.isfile(\"README.md\"), \"README.md file missing!\"\n",
        "\n",
        "def test_readme_contents():\n",
        "    readme = open(\"README.md\", \"r\")\n",
        "    readme_words = readme.read().split()\n",
        "    readme.close()\n",
        "    assert len(readme_words) >= 500, \"Make your README.md file interesting! Add atleast 500 words\"\n",
        "\n",
        "def test_readme_proper_description():\n",
        "    READMELOOKSGOOD = True\n",
        "    f = open(\"README.md\", \"r\")\n",
        "    content = f.read()\n",
        "    f.close()\n",
        "    for c in README_CONTENT_CHECK_FOR:\n",
        "        if c not in content:\n",
        "            READMELOOKSGOOD = False\n",
        "            pass\n",
        "    assert READMELOOKSGOOD == True, \"You have not described all the functions/class well in your README.md file\"\n",
        "\n",
        "def test_readme_file_for_formatting():\n",
        "    f = open(\"README.md\", \"r\")\n",
        "    content = f.read()\n",
        "    f.close()\n",
        "    assert content.count(\"#\") >= 10\n",
        "\n",
        "    \n",
        "def test_class_repr():\n",
        "    s = session2.Something()\n",
        "    s_n = session2.SomethingNew()\n",
        "\n",
        "    assert 'object at' not in s.__repr__() and 'object at' not in s_n.__repr__()\n",
        "\n",
        "def test_fourspace():\n",
        "    ''' Returns pass if used four spaces for each level of syntactically \\\n",
        "    significant indenting.'''\n",
        "    lines = inspect.getsource(session2)\n",
        "    spaces = re.findall('\\n +.', lines)\n",
        "    for space in spaces:\n",
        "        assert re.search('[a-zA-Z#@\\'\\\"]', space), \"Your code intentation does not follow PEP8 guidelines\"\n",
        "        assert len(re.sub(r'[a-zA-Z#@\\n\\\"\\']', '', space)) % 4 == 0, \\\n",
        "        \"Your code intentation does not follow PEP8 guidelines\" \n",
        "\n",
        "def test_function_name_had_cap_letter():\n",
        "    functions = inspect.getmembers(session2, inspect.isfunction)\n",
        "    for function in functions:\n",
        "        assert len(re.findall('([A-Z])', function[0])) == 0, \"You have used Capital letter(s) in your function names\""
      ],
      "execution_count": 4,
      "outputs": []
    },
    {
      "cell_type": "code",
      "metadata": {
        "id": "DKfd0zsW_Cj1",
        "colab_type": "code",
        "colab": {
          "base_uri": "https://localhost:8080/",
          "height": 72
        },
        "outputId": "95c533f6-761e-440c-b955-c42752431d66"
      },
      "source": [
        "test_clear_memory()"
      ],
      "execution_count": 5,
      "outputs": [
        {
          "output_type": "stream",
          "text": [
            "Memory Used  [156.42578125, 156.4296875, 167.21875, 177.76171875, 186.54296875, 196.15625, 201.53125, 211.875, 159.66796875]\n",
            "Memory Calc  159.66796875\n",
            "memory_used[0]  156.42578125\n"
          ],
          "name": "stdout"
        }
      ]
    },
    {
      "cell_type": "code",
      "metadata": {
        "id": "7y8jlJ3cEpRC",
        "colab_type": "code",
        "colab": {
          "base_uri": "https://localhost:8080/",
          "height": 72
        },
        "outputId": "cfe0f5ff-e051-496a-c405-e18ceaf63806"
      },
      "source": [
        "test_memory_actually_increased()"
      ],
      "execution_count": 6,
      "outputs": [
        {
          "output_type": "stream",
          "text": [
            "Memory Used  [159.7109375, 159.7109375, 171.98828125, 179.859375, 188.640625, 199.90625, 211.01171875, 213.90625, 160.5078125]\n",
            "Peak  213.90625\n",
            "memory_used2[0]  159.7109375\n"
          ],
          "name": "stdout"
        }
      ]
    },
    {
      "cell_type": "code",
      "metadata": {
        "id": "Tkg7Ijs-8Qij",
        "colab_type": "code",
        "colab": {}
      },
      "source": [
        "test_fourspace()"
      ],
      "execution_count": 7,
      "outputs": []
    },
    {
      "cell_type": "code",
      "metadata": {
        "id": "U5LACg8f6QqK",
        "colab_type": "code",
        "colab": {}
      },
      "source": [
        "test_function_name_had_cap_letter()"
      ],
      "execution_count": 8,
      "outputs": []
    },
    {
      "cell_type": "code",
      "metadata": {
        "id": "zhkrXLbl96F1",
        "colab_type": "code",
        "colab": {
          "base_uri": "https://localhost:8080/",
          "height": 36
        },
        "outputId": "3f0fd9d4-1b55-4f30-d184-06042b0bc3ba"
      },
      "source": [
        "pwd()"
      ],
      "execution_count": 9,
      "outputs": [
        {
          "output_type": "execute_result",
          "data": {
            "application/vnd.google.colaboratory.intrinsic+json": {
              "type": "string"
            },
            "text/plain": [
              "'/content'"
            ]
          },
          "metadata": {
            "tags": []
          },
          "execution_count": 9
        }
      ]
    },
    {
      "cell_type": "code",
      "metadata": {
        "id": "S2Yky72u-JAc",
        "colab_type": "code",
        "colab": {}
      },
      "source": [
        "test_class_repr()"
      ],
      "execution_count": 10,
      "outputs": []
    }
  ]
}